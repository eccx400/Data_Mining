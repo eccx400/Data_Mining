{
  "nbformat": 4,
  "nbformat_minor": 0,
  "metadata": {
    "colab": {
      "name": "Eric_Cheng_Nearest_Neighbor.ipynb",
      "provenance": [],
      "collapsed_sections": []
    },
    "kernelspec": {
      "name": "python3",
      "display_name": "Python 3"
    },
    "language_info": {
      "name": "python"
    }
  },
  "cells": [
    {
      "cell_type": "code",
      "metadata": {
        "colab": {
          "base_uri": "https://localhost:8080/"
        },
        "id": "0O8N2NSBxNhf",
        "outputId": "447b85ab-4630-4d3e-976b-e55a7ae6c29a"
      },
      "source": [
        "from google.colab import drive\n",
        "drive.mount(\"/content/gdrive\")"
      ],
      "execution_count": 1,
      "outputs": [
        {
          "output_type": "stream",
          "name": "stdout",
          "text": [
            "Drive already mounted at /content/gdrive; to attempt to forcibly remount, call drive.mount(\"/content/gdrive\", force_remount=True).\n"
          ]
        }
      ]
    },
    {
      "cell_type": "code",
      "metadata": {
        "colab": {
          "base_uri": "https://localhost:8080/"
        },
        "id": "HmoXXI5zySDf",
        "outputId": "af7ccfae-fe87-41b6-f05d-89dfbe01ca76"
      },
      "source": [
        "!python -m pip install --upgrade faiss faiss-gpu\n",
        "!pip install datasketch\n",
        "! pip install sentence_transformers"
      ],
      "execution_count": 23,
      "outputs": [
        {
          "output_type": "stream",
          "name": "stdout",
          "text": [
            "Requirement already satisfied: faiss in /usr/local/lib/python3.7/dist-packages (1.5.3)\n",
            "Requirement already satisfied: faiss-gpu in /usr/local/lib/python3.7/dist-packages (1.7.1.post2)\n",
            "Requirement already satisfied: numpy in /usr/local/lib/python3.7/dist-packages (from faiss) (1.19.5)\n",
            "Requirement already satisfied: datasketch in /usr/local/lib/python3.7/dist-packages (1.5.3)\n",
            "Requirement already satisfied: numpy>=1.11 in /usr/local/lib/python3.7/dist-packages (from datasketch) (1.19.5)\n",
            "Collecting sentence_transformers\n",
            "  Downloading sentence-transformers-2.1.0.tar.gz (78 kB)\n",
            "\u001b[K     |████████████████████████████████| 78 kB 3.5 MB/s \n",
            "\u001b[?25hCollecting transformers<5.0.0,>=4.6.0\n",
            "  Downloading transformers-4.12.5-py3-none-any.whl (3.1 MB)\n",
            "\u001b[K     |████████████████████████████████| 3.1 MB 42.1 MB/s \n",
            "\u001b[?25hCollecting tokenizers>=0.10.3\n",
            "  Downloading tokenizers-0.10.3-cp37-cp37m-manylinux_2_5_x86_64.manylinux1_x86_64.manylinux_2_12_x86_64.manylinux2010_x86_64.whl (3.3 MB)\n",
            "\u001b[K     |████████████████████████████████| 3.3 MB 44.6 MB/s \n",
            "\u001b[?25hRequirement already satisfied: tqdm in /usr/local/lib/python3.7/dist-packages (from sentence_transformers) (4.62.3)\n",
            "Requirement already satisfied: torch>=1.6.0 in /usr/local/lib/python3.7/dist-packages (from sentence_transformers) (1.10.0+cu111)\n",
            "Requirement already satisfied: torchvision in /usr/local/lib/python3.7/dist-packages (from sentence_transformers) (0.11.1+cu111)\n",
            "Requirement already satisfied: numpy in /usr/local/lib/python3.7/dist-packages (from sentence_transformers) (1.19.5)\n",
            "Requirement already satisfied: scikit-learn in /usr/local/lib/python3.7/dist-packages (from sentence_transformers) (1.0.1)\n",
            "Requirement already satisfied: scipy in /usr/local/lib/python3.7/dist-packages (from sentence_transformers) (1.4.1)\n",
            "Requirement already satisfied: nltk in /usr/local/lib/python3.7/dist-packages (from sentence_transformers) (3.2.5)\n",
            "Collecting sentencepiece\n",
            "  Downloading sentencepiece-0.1.96-cp37-cp37m-manylinux_2_17_x86_64.manylinux2014_x86_64.whl (1.2 MB)\n",
            "\u001b[K     |████████████████████████████████| 1.2 MB 49.0 MB/s \n",
            "\u001b[?25hCollecting huggingface-hub\n",
            "  Downloading huggingface_hub-0.1.2-py3-none-any.whl (59 kB)\n",
            "\u001b[K     |████████████████████████████████| 59 kB 5.3 MB/s \n",
            "\u001b[?25hRequirement already satisfied: typing-extensions in /usr/local/lib/python3.7/dist-packages (from torch>=1.6.0->sentence_transformers) (3.10.0.2)\n",
            "Requirement already satisfied: requests in /usr/local/lib/python3.7/dist-packages (from transformers<5.0.0,>=4.6.0->sentence_transformers) (2.23.0)\n",
            "Requirement already satisfied: importlib-metadata in /usr/local/lib/python3.7/dist-packages (from transformers<5.0.0,>=4.6.0->sentence_transformers) (4.8.2)\n",
            "Requirement already satisfied: regex!=2019.12.17 in /usr/local/lib/python3.7/dist-packages (from transformers<5.0.0,>=4.6.0->sentence_transformers) (2019.12.20)\n",
            "Requirement already satisfied: filelock in /usr/local/lib/python3.7/dist-packages (from transformers<5.0.0,>=4.6.0->sentence_transformers) (3.4.0)\n",
            "Collecting sacremoses\n",
            "  Downloading sacremoses-0.0.46-py3-none-any.whl (895 kB)\n",
            "\u001b[K     |████████████████████████████████| 895 kB 31.4 MB/s \n",
            "\u001b[?25hRequirement already satisfied: packaging>=20.0 in /usr/local/lib/python3.7/dist-packages (from transformers<5.0.0,>=4.6.0->sentence_transformers) (21.3)\n",
            "Collecting pyyaml>=5.1\n",
            "  Downloading PyYAML-6.0-cp37-cp37m-manylinux_2_5_x86_64.manylinux1_x86_64.manylinux_2_12_x86_64.manylinux2010_x86_64.whl (596 kB)\n",
            "\u001b[K     |████████████████████████████████| 596 kB 43.5 MB/s \n",
            "\u001b[?25hRequirement already satisfied: pyparsing!=3.0.5,>=2.0.2 in /usr/local/lib/python3.7/dist-packages (from packaging>=20.0->transformers<5.0.0,>=4.6.0->sentence_transformers) (3.0.6)\n",
            "Requirement already satisfied: zipp>=0.5 in /usr/local/lib/python3.7/dist-packages (from importlib-metadata->transformers<5.0.0,>=4.6.0->sentence_transformers) (3.6.0)\n",
            "Requirement already satisfied: six in /usr/local/lib/python3.7/dist-packages (from nltk->sentence_transformers) (1.15.0)\n",
            "Requirement already satisfied: certifi>=2017.4.17 in /usr/local/lib/python3.7/dist-packages (from requests->transformers<5.0.0,>=4.6.0->sentence_transformers) (2021.10.8)\n",
            "Requirement already satisfied: idna<3,>=2.5 in /usr/local/lib/python3.7/dist-packages (from requests->transformers<5.0.0,>=4.6.0->sentence_transformers) (2.10)\n",
            "Requirement already satisfied: chardet<4,>=3.0.2 in /usr/local/lib/python3.7/dist-packages (from requests->transformers<5.0.0,>=4.6.0->sentence_transformers) (3.0.4)\n",
            "Requirement already satisfied: urllib3!=1.25.0,!=1.25.1,<1.26,>=1.21.1 in /usr/local/lib/python3.7/dist-packages (from requests->transformers<5.0.0,>=4.6.0->sentence_transformers) (1.24.3)\n",
            "Requirement already satisfied: click in /usr/local/lib/python3.7/dist-packages (from sacremoses->transformers<5.0.0,>=4.6.0->sentence_transformers) (7.1.2)\n",
            "Requirement already satisfied: joblib in /usr/local/lib/python3.7/dist-packages (from sacremoses->transformers<5.0.0,>=4.6.0->sentence_transformers) (1.1.0)\n",
            "Requirement already satisfied: threadpoolctl>=2.0.0 in /usr/local/lib/python3.7/dist-packages (from scikit-learn->sentence_transformers) (3.0.0)\n",
            "Requirement already satisfied: pillow!=8.3.0,>=5.3.0 in /usr/local/lib/python3.7/dist-packages (from torchvision->sentence_transformers) (7.1.2)\n",
            "Building wheels for collected packages: sentence-transformers\n",
            "  Building wheel for sentence-transformers (setup.py) ... \u001b[?25l\u001b[?25hdone\n",
            "  Created wheel for sentence-transformers: filename=sentence_transformers-2.1.0-py3-none-any.whl size=121000 sha256=9b67819c28297e915bcf86746037c66db3b0c08ec5d71c1936c9eeaa78f86ba1\n",
            "  Stored in directory: /root/.cache/pip/wheels/90/f0/bb/ed1add84da70092ea526466eadc2bfb197c4bcb8d4fa5f7bad\n",
            "Successfully built sentence-transformers\n",
            "Installing collected packages: pyyaml, tokenizers, sacremoses, huggingface-hub, transformers, sentencepiece, sentence-transformers\n",
            "  Attempting uninstall: pyyaml\n",
            "    Found existing installation: PyYAML 3.13\n",
            "    Uninstalling PyYAML-3.13:\n",
            "      Successfully uninstalled PyYAML-3.13\n",
            "Successfully installed huggingface-hub-0.1.2 pyyaml-6.0 sacremoses-0.0.46 sentence-transformers-2.1.0 sentencepiece-0.1.96 tokenizers-0.10.3 transformers-4.12.5\n"
          ]
        }
      ]
    },
    {
      "cell_type": "code",
      "metadata": {
        "id": "cDwJzAYHoOYN"
      },
      "source": [
        "# Importing packages\n",
        "import numpy as np\n",
        "import pandas as pd\n",
        "import matplotlib as mpl\n",
        "import matplotlib.pyplot as plt\n",
        "import seaborn as sn\n",
        "import math\n",
        "import warnings # Current version of Seaborn generates a bunch of warnings that will be ignored.\n",
        "warnings.filterwarnings('ignore')\n",
        "warnings.simplefilter('ignore')"
      ],
      "execution_count": 39,
      "outputs": []
    },
    {
      "cell_type": "code",
      "metadata": {
        "id": "2oMHOB9B4pKN"
      },
      "source": [
        "from sklearn.feature_extraction.text import TfidfVectorizer\n",
        "from sentence_transformers import SentenceTransformer, util"
      ],
      "execution_count": 24,
      "outputs": []
    },
    {
      "cell_type": "code",
      "metadata": {
        "colab": {
          "base_uri": "https://localhost:8080/",
          "height": 554
        },
        "id": "X6wEux3OxJNc",
        "outputId": "4b5d1fdf-01ea-43a4-866e-cc84267e5a32"
      },
      "source": [
        "df = pd.read_csv('/content/gdrive/My Drive/Colab Notebooks/Dataset/wiki_movie_plots_deduped.csv')\n",
        "df.head(10)"
      ],
      "execution_count": 5,
      "outputs": [
        {
          "output_type": "execute_result",
          "data": {
            "text/html": [
              "<div>\n",
              "<style scoped>\n",
              "    .dataframe tbody tr th:only-of-type {\n",
              "        vertical-align: middle;\n",
              "    }\n",
              "\n",
              "    .dataframe tbody tr th {\n",
              "        vertical-align: top;\n",
              "    }\n",
              "\n",
              "    .dataframe thead th {\n",
              "        text-align: right;\n",
              "    }\n",
              "</style>\n",
              "<table border=\"1\" class=\"dataframe\">\n",
              "  <thead>\n",
              "    <tr style=\"text-align: right;\">\n",
              "      <th></th>\n",
              "      <th>Release Year</th>\n",
              "      <th>Title</th>\n",
              "      <th>Origin/Ethnicity</th>\n",
              "      <th>Director</th>\n",
              "      <th>Cast</th>\n",
              "      <th>Genre</th>\n",
              "      <th>Wiki Page</th>\n",
              "      <th>Plot</th>\n",
              "    </tr>\n",
              "  </thead>\n",
              "  <tbody>\n",
              "    <tr>\n",
              "      <th>0</th>\n",
              "      <td>1901</td>\n",
              "      <td>Kansas Saloon Smashers</td>\n",
              "      <td>American</td>\n",
              "      <td>Unknown</td>\n",
              "      <td>NaN</td>\n",
              "      <td>unknown</td>\n",
              "      <td>https://en.wikipedia.org/wiki/Kansas_Saloon_Sm...</td>\n",
              "      <td>A bartender is working at a saloon, serving dr...</td>\n",
              "    </tr>\n",
              "    <tr>\n",
              "      <th>1</th>\n",
              "      <td>1901</td>\n",
              "      <td>Love by the Light of the Moon</td>\n",
              "      <td>American</td>\n",
              "      <td>Unknown</td>\n",
              "      <td>NaN</td>\n",
              "      <td>unknown</td>\n",
              "      <td>https://en.wikipedia.org/wiki/Love_by_the_Ligh...</td>\n",
              "      <td>The moon, painted with a smiling face hangs ov...</td>\n",
              "    </tr>\n",
              "    <tr>\n",
              "      <th>2</th>\n",
              "      <td>1901</td>\n",
              "      <td>The Martyred Presidents</td>\n",
              "      <td>American</td>\n",
              "      <td>Unknown</td>\n",
              "      <td>NaN</td>\n",
              "      <td>unknown</td>\n",
              "      <td>https://en.wikipedia.org/wiki/The_Martyred_Pre...</td>\n",
              "      <td>The film, just over a minute long, is composed...</td>\n",
              "    </tr>\n",
              "    <tr>\n",
              "      <th>3</th>\n",
              "      <td>1901</td>\n",
              "      <td>Terrible Teddy, the Grizzly King</td>\n",
              "      <td>American</td>\n",
              "      <td>Unknown</td>\n",
              "      <td>NaN</td>\n",
              "      <td>unknown</td>\n",
              "      <td>https://en.wikipedia.org/wiki/Terrible_Teddy,_...</td>\n",
              "      <td>Lasting just 61 seconds and consisting of two ...</td>\n",
              "    </tr>\n",
              "    <tr>\n",
              "      <th>4</th>\n",
              "      <td>1902</td>\n",
              "      <td>Jack and the Beanstalk</td>\n",
              "      <td>American</td>\n",
              "      <td>George S. Fleming, Edwin S. Porter</td>\n",
              "      <td>NaN</td>\n",
              "      <td>unknown</td>\n",
              "      <td>https://en.wikipedia.org/wiki/Jack_and_the_Bea...</td>\n",
              "      <td>The earliest known adaptation of the classic f...</td>\n",
              "    </tr>\n",
              "    <tr>\n",
              "      <th>5</th>\n",
              "      <td>1903</td>\n",
              "      <td>Alice in Wonderland</td>\n",
              "      <td>American</td>\n",
              "      <td>Cecil Hepworth</td>\n",
              "      <td>May Clark</td>\n",
              "      <td>unknown</td>\n",
              "      <td>https://en.wikipedia.org/wiki/Alice_in_Wonderl...</td>\n",
              "      <td>Alice follows a large white rabbit down a \"Rab...</td>\n",
              "    </tr>\n",
              "    <tr>\n",
              "      <th>6</th>\n",
              "      <td>1903</td>\n",
              "      <td>The Great Train Robbery</td>\n",
              "      <td>American</td>\n",
              "      <td>Edwin S. Porter</td>\n",
              "      <td>NaN</td>\n",
              "      <td>western</td>\n",
              "      <td>https://en.wikipedia.org/wiki/The_Great_Train_...</td>\n",
              "      <td>The film opens with two bandits breaking into ...</td>\n",
              "    </tr>\n",
              "    <tr>\n",
              "      <th>7</th>\n",
              "      <td>1904</td>\n",
              "      <td>The Suburbanite</td>\n",
              "      <td>American</td>\n",
              "      <td>Wallace McCutcheon</td>\n",
              "      <td>NaN</td>\n",
              "      <td>comedy</td>\n",
              "      <td>https://en.wikipedia.org/wiki/The_Suburbanite</td>\n",
              "      <td>The film is about a family who move to the sub...</td>\n",
              "    </tr>\n",
              "    <tr>\n",
              "      <th>8</th>\n",
              "      <td>1905</td>\n",
              "      <td>The Little Train Robbery</td>\n",
              "      <td>American</td>\n",
              "      <td>Edwin Stanton Porter</td>\n",
              "      <td>NaN</td>\n",
              "      <td>unknown</td>\n",
              "      <td>https://en.wikipedia.org/wiki/The_Little_Train...</td>\n",
              "      <td>The opening scene shows the interior of the ro...</td>\n",
              "    </tr>\n",
              "    <tr>\n",
              "      <th>9</th>\n",
              "      <td>1905</td>\n",
              "      <td>The Night Before Christmas</td>\n",
              "      <td>American</td>\n",
              "      <td>Edwin Stanton Porter</td>\n",
              "      <td>NaN</td>\n",
              "      <td>unknown</td>\n",
              "      <td>https://en.wikipedia.org/wiki/The_Night_Before...</td>\n",
              "      <td>Scenes are introduced using lines of the poem....</td>\n",
              "    </tr>\n",
              "  </tbody>\n",
              "</table>\n",
              "</div>"
            ],
            "text/plain": [
              "   Release Year  ...                                               Plot\n",
              "0          1901  ...  A bartender is working at a saloon, serving dr...\n",
              "1          1901  ...  The moon, painted with a smiling face hangs ov...\n",
              "2          1901  ...  The film, just over a minute long, is composed...\n",
              "3          1901  ...  Lasting just 61 seconds and consisting of two ...\n",
              "4          1902  ...  The earliest known adaptation of the classic f...\n",
              "5          1903  ...  Alice follows a large white rabbit down a \"Rab...\n",
              "6          1903  ...  The film opens with two bandits breaking into ...\n",
              "7          1904  ...  The film is about a family who move to the sub...\n",
              "8          1905  ...  The opening scene shows the interior of the ro...\n",
              "9          1905  ...  Scenes are introduced using lines of the poem....\n",
              "\n",
              "[10 rows x 8 columns]"
            ]
          },
          "metadata": {},
          "execution_count": 5
        }
      ]
    },
    {
      "cell_type": "code",
      "metadata": {
        "colab": {
          "base_uri": "https://localhost:8080/",
          "height": 554
        },
        "id": "pJ7wJtt112sL",
        "outputId": "c16e019a-e72e-4452-dd02-cdddb2763a10"
      },
      "source": [
        "df.drop(columns=[\"Origin/Ethnicity\", \"Cast\", \"Genre\"], inplace= True)\n",
        "df[\"text\"] = df[\"Title\"] + \" \" + df[\"Plot\"]\n",
        "df.head(10)"
      ],
      "execution_count": 6,
      "outputs": [
        {
          "output_type": "execute_result",
          "data": {
            "text/html": [
              "<div>\n",
              "<style scoped>\n",
              "    .dataframe tbody tr th:only-of-type {\n",
              "        vertical-align: middle;\n",
              "    }\n",
              "\n",
              "    .dataframe tbody tr th {\n",
              "        vertical-align: top;\n",
              "    }\n",
              "\n",
              "    .dataframe thead th {\n",
              "        text-align: right;\n",
              "    }\n",
              "</style>\n",
              "<table border=\"1\" class=\"dataframe\">\n",
              "  <thead>\n",
              "    <tr style=\"text-align: right;\">\n",
              "      <th></th>\n",
              "      <th>Release Year</th>\n",
              "      <th>Title</th>\n",
              "      <th>Director</th>\n",
              "      <th>Wiki Page</th>\n",
              "      <th>Plot</th>\n",
              "      <th>text</th>\n",
              "    </tr>\n",
              "  </thead>\n",
              "  <tbody>\n",
              "    <tr>\n",
              "      <th>0</th>\n",
              "      <td>1901</td>\n",
              "      <td>Kansas Saloon Smashers</td>\n",
              "      <td>Unknown</td>\n",
              "      <td>https://en.wikipedia.org/wiki/Kansas_Saloon_Sm...</td>\n",
              "      <td>A bartender is working at a saloon, serving dr...</td>\n",
              "      <td>Kansas Saloon Smashers A bartender is working ...</td>\n",
              "    </tr>\n",
              "    <tr>\n",
              "      <th>1</th>\n",
              "      <td>1901</td>\n",
              "      <td>Love by the Light of the Moon</td>\n",
              "      <td>Unknown</td>\n",
              "      <td>https://en.wikipedia.org/wiki/Love_by_the_Ligh...</td>\n",
              "      <td>The moon, painted with a smiling face hangs ov...</td>\n",
              "      <td>Love by the Light of the Moon The moon, painte...</td>\n",
              "    </tr>\n",
              "    <tr>\n",
              "      <th>2</th>\n",
              "      <td>1901</td>\n",
              "      <td>The Martyred Presidents</td>\n",
              "      <td>Unknown</td>\n",
              "      <td>https://en.wikipedia.org/wiki/The_Martyred_Pre...</td>\n",
              "      <td>The film, just over a minute long, is composed...</td>\n",
              "      <td>The Martyred Presidents The film, just over a ...</td>\n",
              "    </tr>\n",
              "    <tr>\n",
              "      <th>3</th>\n",
              "      <td>1901</td>\n",
              "      <td>Terrible Teddy, the Grizzly King</td>\n",
              "      <td>Unknown</td>\n",
              "      <td>https://en.wikipedia.org/wiki/Terrible_Teddy,_...</td>\n",
              "      <td>Lasting just 61 seconds and consisting of two ...</td>\n",
              "      <td>Terrible Teddy, the Grizzly King Lasting just ...</td>\n",
              "    </tr>\n",
              "    <tr>\n",
              "      <th>4</th>\n",
              "      <td>1902</td>\n",
              "      <td>Jack and the Beanstalk</td>\n",
              "      <td>George S. Fleming, Edwin S. Porter</td>\n",
              "      <td>https://en.wikipedia.org/wiki/Jack_and_the_Bea...</td>\n",
              "      <td>The earliest known adaptation of the classic f...</td>\n",
              "      <td>Jack and the Beanstalk The earliest known adap...</td>\n",
              "    </tr>\n",
              "    <tr>\n",
              "      <th>5</th>\n",
              "      <td>1903</td>\n",
              "      <td>Alice in Wonderland</td>\n",
              "      <td>Cecil Hepworth</td>\n",
              "      <td>https://en.wikipedia.org/wiki/Alice_in_Wonderl...</td>\n",
              "      <td>Alice follows a large white rabbit down a \"Rab...</td>\n",
              "      <td>Alice in Wonderland Alice follows a large whit...</td>\n",
              "    </tr>\n",
              "    <tr>\n",
              "      <th>6</th>\n",
              "      <td>1903</td>\n",
              "      <td>The Great Train Robbery</td>\n",
              "      <td>Edwin S. Porter</td>\n",
              "      <td>https://en.wikipedia.org/wiki/The_Great_Train_...</td>\n",
              "      <td>The film opens with two bandits breaking into ...</td>\n",
              "      <td>The Great Train Robbery The film opens with tw...</td>\n",
              "    </tr>\n",
              "    <tr>\n",
              "      <th>7</th>\n",
              "      <td>1904</td>\n",
              "      <td>The Suburbanite</td>\n",
              "      <td>Wallace McCutcheon</td>\n",
              "      <td>https://en.wikipedia.org/wiki/The_Suburbanite</td>\n",
              "      <td>The film is about a family who move to the sub...</td>\n",
              "      <td>The Suburbanite The film is about a family who...</td>\n",
              "    </tr>\n",
              "    <tr>\n",
              "      <th>8</th>\n",
              "      <td>1905</td>\n",
              "      <td>The Little Train Robbery</td>\n",
              "      <td>Edwin Stanton Porter</td>\n",
              "      <td>https://en.wikipedia.org/wiki/The_Little_Train...</td>\n",
              "      <td>The opening scene shows the interior of the ro...</td>\n",
              "      <td>The Little Train Robbery The opening scene sho...</td>\n",
              "    </tr>\n",
              "    <tr>\n",
              "      <th>9</th>\n",
              "      <td>1905</td>\n",
              "      <td>The Night Before Christmas</td>\n",
              "      <td>Edwin Stanton Porter</td>\n",
              "      <td>https://en.wikipedia.org/wiki/The_Night_Before...</td>\n",
              "      <td>Scenes are introduced using lines of the poem....</td>\n",
              "      <td>The Night Before Christmas Scenes are introduc...</td>\n",
              "    </tr>\n",
              "  </tbody>\n",
              "</table>\n",
              "</div>"
            ],
            "text/plain": [
              "   Release Year  ...                                               text\n",
              "0          1901  ...  Kansas Saloon Smashers A bartender is working ...\n",
              "1          1901  ...  Love by the Light of the Moon The moon, painte...\n",
              "2          1901  ...  The Martyred Presidents The film, just over a ...\n",
              "3          1901  ...  Terrible Teddy, the Grizzly King Lasting just ...\n",
              "4          1902  ...  Jack and the Beanstalk The earliest known adap...\n",
              "5          1903  ...  Alice in Wonderland Alice follows a large whit...\n",
              "6          1903  ...  The Great Train Robbery The film opens with tw...\n",
              "7          1904  ...  The Suburbanite The film is about a family who...\n",
              "8          1905  ...  The Little Train Robbery The opening scene sho...\n",
              "9          1905  ...  The Night Before Christmas Scenes are introduc...\n",
              "\n",
              "[10 rows x 6 columns]"
            ]
          },
          "metadata": {},
          "execution_count": 6
        }
      ]
    },
    {
      "cell_type": "markdown",
      "metadata": {
        "id": "LQ-4vaa-6ONx"
      },
      "source": [
        "Get first 1000 rows for performance purposes"
      ]
    },
    {
      "cell_type": "code",
      "metadata": {
        "colab": {
          "base_uri": "https://localhost:8080/"
        },
        "id": "BEVQD1GH5aNZ",
        "outputId": "f6e3bf2c-c442-4c00-db5c-b5f17d536a54"
      },
      "source": [
        "df = df[0:1000]\n",
        "df.shape"
      ],
      "execution_count": 7,
      "outputs": [
        {
          "output_type": "execute_result",
          "data": {
            "text/plain": [
              "(1000, 6)"
            ]
          },
          "metadata": {},
          "execution_count": 7
        }
      ]
    },
    {
      "cell_type": "markdown",
      "metadata": {
        "id": "-tQXLv0zxuL2"
      },
      "source": [
        "# **LSH**"
      ]
    },
    {
      "cell_type": "code",
      "metadata": {
        "id": "7Kn57fm_02xt"
      },
      "source": [
        "import re\n",
        "import time\n",
        "from datasketch import MinHash, MinHashLSHForest"
      ],
      "execution_count": 8,
      "outputs": []
    },
    {
      "cell_type": "code",
      "metadata": {
        "id": "1--S1JsB0LIY"
      },
      "source": [
        "def preprocess(text):\n",
        "    text = re.sub(r'[^\\w\\s]','',text)\n",
        "    tokens = text.lower()\n",
        "    tokens = tokens.split()\n",
        "    return tokens"
      ],
      "execution_count": 9,
      "outputs": []
    },
    {
      "cell_type": "code",
      "metadata": {
        "id": "sojKFbws0cPi"
      },
      "source": [
        "def get_forest(data, perms):\n",
        "    start_time = time.time()\n",
        "    \n",
        "    minhash = []\n",
        "    \n",
        "    for text in data['text']:\n",
        "        tokens = preprocess(text)\n",
        "        m = MinHash(num_perm=perms)\n",
        "        for s in tokens:\n",
        "            m.update(s.encode('utf8'))\n",
        "        minhash.append(m)\n",
        "        \n",
        "    forest = MinHashLSHForest(num_perm=perms)\n",
        "    \n",
        "    for i,m in enumerate(minhash):\n",
        "        forest.add(i,m)\n",
        "        \n",
        "    forest.index()\n",
        "    \n",
        "    print('It took %s seconds to build forest.' %(time.time()-start_time))\n",
        "    \n",
        "    return forest"
      ],
      "execution_count": 10,
      "outputs": []
    },
    {
      "cell_type": "code",
      "metadata": {
        "id": "7rolY21N0gwf"
      },
      "source": [
        "def predict(text, database, perms, num_results, forest):\n",
        "    start_time = time.time()\n",
        "    \n",
        "    tokens = preprocess(text)\n",
        "    m = MinHash(num_perm=perms)\n",
        "    for s in tokens:\n",
        "        m.update(s.encode('utf8'))\n",
        "        \n",
        "    idx_array = np.array(forest.query(m, num_results))\n",
        "    if len(idx_array) == 0:\n",
        "        return None # if your query is empty, return none\n",
        "    \n",
        "    result = database.iloc[idx_array]['Title']\n",
        "    \n",
        "    print('It took %s seconds to query forest.' %(time.time()-start_time))\n",
        "    \n",
        "    return result"
      ],
      "execution_count": 11,
      "outputs": []
    },
    {
      "cell_type": "code",
      "metadata": {
        "id": "T9Kjzi_S0kkr"
      },
      "source": [
        "permutations = 128\n",
        "\n",
        "num_recommendations = 1"
      ],
      "execution_count": 12,
      "outputs": []
    },
    {
      "cell_type": "code",
      "metadata": {
        "colab": {
          "base_uri": "https://localhost:8080/"
        },
        "id": "6qL0JN4q0rgo",
        "outputId": "18c4712d-78ad-4842-d479-e61e93a3ab59"
      },
      "source": [
        "forest = get_forest(df, permutations)"
      ],
      "execution_count": 13,
      "outputs": [
        {
          "output_type": "stream",
          "name": "stdout",
          "text": [
            "It took 4.729840278625488 seconds to build forest.\n"
          ]
        }
      ]
    },
    {
      "cell_type": "code",
      "metadata": {
        "colab": {
          "base_uri": "https://localhost:8080/"
        },
        "id": "PCFGIY4A2diD",
        "outputId": "550a52e4-e6cc-4e82-ee2d-f4bff6b5058e"
      },
      "source": [
        "num_recommendations = 5\n",
        "title = 'The Godfather'\n",
        "result = predict(title, df, permutations, num_recommendations, forest)\n",
        "print('\\n Top Recommendation(s) is(are) \\n', result)"
      ],
      "execution_count": 14,
      "outputs": [
        {
          "output_type": "stream",
          "name": "stdout",
          "text": [
            "It took 0.005959987640380859 seconds to query forest.\n",
            "\n",
            " Top Recommendation(s) is(are) \n",
            " 25      The Lure of the Gown\n",
            "193    Are Crooks Dishonest?\n",
            "Name: Title, dtype: object\n"
          ]
        }
      ]
    },
    {
      "cell_type": "markdown",
      "metadata": {
        "id": "YO_4M4U62iWJ"
      },
      "source": [
        "# **Exhaustive Search**"
      ]
    },
    {
      "cell_type": "code",
      "metadata": {
        "id": "ehgDWnWE7exJ"
      },
      "source": [
        "import faiss"
      ],
      "execution_count": 15,
      "outputs": []
    },
    {
      "cell_type": "code",
      "metadata": {
        "id": "dE-hdQnU4UHr"
      },
      "source": [
        "df['Index'] = df.index"
      ],
      "execution_count": 16,
      "outputs": []
    },
    {
      "cell_type": "code",
      "metadata": {
        "colab": {
          "base_uri": "https://localhost:8080/"
        },
        "id": "-bcffzZu4ljh",
        "outputId": "15f61538-f654-464a-a73e-b7bb11dbab99"
      },
      "source": [
        "tfidf = TfidfVectorizer(analyzer='word',ngram_range=(1, 3),min_df=0,stop_words='english')\n",
        "X_tfidf = tfidf.fit_transform(df['text'])\n",
        "X_tfidf"
      ],
      "execution_count": 17,
      "outputs": [
        {
          "output_type": "execute_result",
          "data": {
            "text/plain": [
              "<1000x228586 sparse matrix of type '<class 'numpy.float64'>'\n",
              "\twith 307021 stored elements in Compressed Sparse Row format>"
            ]
          },
          "metadata": {},
          "execution_count": 17
        }
      ]
    },
    {
      "cell_type": "code",
      "metadata": {
        "colab": {
          "base_uri": "https://localhost:8080/"
        },
        "id": "rhwUBaNN4z-8",
        "outputId": "40baf08e-7127-4443-c43a-31ba6a3ae683"
      },
      "source": [
        "vector = X_tfidf.toarray()\n",
        "vector[0].shape[0]"
      ],
      "execution_count": 18,
      "outputs": [
        {
          "output_type": "execute_result",
          "data": {
            "text/plain": [
              "228586"
            ]
          },
          "metadata": {},
          "execution_count": 18
        }
      ]
    },
    {
      "cell_type": "code",
      "metadata": {
        "id": "klvbUs932px1"
      },
      "source": [
        "class ExactIndex():\n",
        "    def __init__(self, vectors, labels):\n",
        "        self.dimension = vectors.shape[1]\n",
        "        self.vectors = vectors.astype('float32')\n",
        "        self.labels = labels    \n",
        "   \n",
        "    def build(self):\n",
        "        self.index = faiss.IndexFlatL2(self.dimension,)\n",
        "        self.index.add(self.vectors)\n",
        "        \n",
        "    def query(self, vectors, k=10):\n",
        "        distances, indices = self.index.search(vectors, k) \n",
        "        # I expect only query on one vector thus the slice\n",
        "        return [self.labels[i] for i in indices[0]]"
      ],
      "execution_count": 19,
      "outputs": []
    },
    {
      "cell_type": "code",
      "metadata": {
        "colab": {
          "base_uri": "https://localhost:8080/"
        },
        "id": "g_hZV2E038-T",
        "outputId": "f612dc93-ef81-44ac-cdcd-519315d41985"
      },
      "source": [
        "%%time\n",
        "index = ExactIndex(vector, df[\"Index\"])\n",
        "index.build()"
      ],
      "execution_count": 20,
      "outputs": [
        {
          "output_type": "stream",
          "name": "stdout",
          "text": [
            "CPU times: user 659 ms, sys: 988 ms, total: 1.65 s\n",
            "Wall time: 1.65 s\n"
          ]
        }
      ]
    },
    {
      "cell_type": "code",
      "metadata": {
        "colab": {
          "base_uri": "https://localhost:8080/",
          "height": 519
        },
        "id": "mAQ9su5j8G1g",
        "outputId": "f08bef96-57c5-4dde-c640-bbd2beb67824"
      },
      "source": [
        "query_index = 5\n",
        "print(f\"The most similar items to item {df['Index'][query_index]} are:\")\n",
        "\n",
        "items_list = index.query(np.array([vector[query_index]]).astype('float32'))\n",
        "df.loc[df['Index'].isin(items_list)]"
      ],
      "execution_count": 21,
      "outputs": [
        {
          "output_type": "stream",
          "name": "stdout",
          "text": [
            "The most similar items to item 5 are:\n"
          ]
        },
        {
          "output_type": "execute_result",
          "data": {
            "text/html": [
              "<div>\n",
              "<style scoped>\n",
              "    .dataframe tbody tr th:only-of-type {\n",
              "        vertical-align: middle;\n",
              "    }\n",
              "\n",
              "    .dataframe tbody tr th {\n",
              "        vertical-align: top;\n",
              "    }\n",
              "\n",
              "    .dataframe thead th {\n",
              "        text-align: right;\n",
              "    }\n",
              "</style>\n",
              "<table border=\"1\" class=\"dataframe\">\n",
              "  <thead>\n",
              "    <tr style=\"text-align: right;\">\n",
              "      <th></th>\n",
              "      <th>Release Year</th>\n",
              "      <th>Title</th>\n",
              "      <th>Director</th>\n",
              "      <th>Wiki Page</th>\n",
              "      <th>Plot</th>\n",
              "      <th>text</th>\n",
              "      <th>Index</th>\n",
              "    </tr>\n",
              "  </thead>\n",
              "  <tbody>\n",
              "    <tr>\n",
              "      <th>5</th>\n",
              "      <td>1903</td>\n",
              "      <td>Alice in Wonderland</td>\n",
              "      <td>Cecil Hepworth</td>\n",
              "      <td>https://en.wikipedia.org/wiki/Alice_in_Wonderl...</td>\n",
              "      <td>Alice follows a large white rabbit down a \"Rab...</td>\n",
              "      <td>Alice in Wonderland Alice follows a large whit...</td>\n",
              "      <td>5</td>\n",
              "    </tr>\n",
              "    <tr>\n",
              "      <th>150</th>\n",
              "      <td>1916</td>\n",
              "      <td>Sherlock Holmes</td>\n",
              "      <td>Arthur Berthelet</td>\n",
              "      <td>https://en.wikipedia.org/wiki/Sherlock_Holmes_...</td>\n",
              "      <td>A prince, the heir apparent to a large empire,...</td>\n",
              "      <td>Sherlock Holmes A prince, the heir apparent to...</td>\n",
              "      <td>150</td>\n",
              "    </tr>\n",
              "    <tr>\n",
              "      <th>170</th>\n",
              "      <td>1917</td>\n",
              "      <td>His Wedding Night</td>\n",
              "      <td>Roscoe Arbuckle</td>\n",
              "      <td>https://en.wikipedia.org/wiki/His_Wedding_Night</td>\n",
              "      <td>Arbuckle plays a drug store clerk, soda jerk, ...</td>\n",
              "      <td>His Wedding Night Arbuckle plays a drug store ...</td>\n",
              "      <td>170</td>\n",
              "    </tr>\n",
              "    <tr>\n",
              "      <th>225</th>\n",
              "      <td>1918</td>\n",
              "      <td>Moonshine</td>\n",
              "      <td>Unknown</td>\n",
              "      <td>https://en.wikipedia.org/wiki/Moonshine_(1918_...</td>\n",
              "      <td>Set in the Virginia Hills, Fatty and Buster pl...</td>\n",
              "      <td>Moonshine Set in the Virginia Hills, Fatty and...</td>\n",
              "      <td>225</td>\n",
              "    </tr>\n",
              "    <tr>\n",
              "      <th>495</th>\n",
              "      <td>1924</td>\n",
              "      <td>Helen's Babies</td>\n",
              "      <td>William A. Seiter</td>\n",
              "      <td>https://en.wikipedia.org/wiki/Helen%27s_Babies...</td>\n",
              "      <td>Toodie and Budge are identified as the two bes...</td>\n",
              "      <td>Helen's Babies Toodie and Budge are identified...</td>\n",
              "      <td>495</td>\n",
              "    </tr>\n",
              "    <tr>\n",
              "      <th>526</th>\n",
              "      <td>1925</td>\n",
              "      <td>Confessions of a Queen</td>\n",
              "      <td>Victor Sjostrom</td>\n",
              "      <td>https://en.wikipedia.org/wiki/Confessions_of_a...</td>\n",
              "      <td>The King of Illyris (Lewis Stone) marries a ne...</td>\n",
              "      <td>Confessions of a Queen The King of Illyris (Le...</td>\n",
              "      <td>526</td>\n",
              "    </tr>\n",
              "    <tr>\n",
              "      <th>895</th>\n",
              "      <td>1930</td>\n",
              "      <td>Borrowed Wives</td>\n",
              "      <td>Frank R. Strayer</td>\n",
              "      <td>https://en.wikipedia.org/wiki/Borrowed_Wives</td>\n",
              "      <td>Peter Foley (Rex Lease) is a beneficiary of hi...</td>\n",
              "      <td>Borrowed Wives Peter Foley (Rex Lease) is a be...</td>\n",
              "      <td>895</td>\n",
              "    </tr>\n",
              "    <tr>\n",
              "      <th>917</th>\n",
              "      <td>1930</td>\n",
              "      <td>Extravagance</td>\n",
              "      <td>Phil Rosen</td>\n",
              "      <td>https://en.wikipedia.org/wiki/Extravagance_(film)</td>\n",
              "      <td>Alice Kendall is the darling of her social set...</td>\n",
              "      <td>Extravagance Alice Kendall is the darling of h...</td>\n",
              "      <td>917</td>\n",
              "    </tr>\n",
              "    <tr>\n",
              "      <th>935</th>\n",
              "      <td>1930</td>\n",
              "      <td>He Knew Women</td>\n",
              "      <td>Hugh Herbert</td>\n",
              "      <td>https://en.wikipedia.org/wiki/He_Knew_Women</td>\n",
              "      <td>Geoffrey Clarke is a poor poet, who has his ey...</td>\n",
              "      <td>He Knew Women Geoffrey Clarke is a poor poet, ...</td>\n",
              "      <td>935</td>\n",
              "    </tr>\n",
              "    <tr>\n",
              "      <th>995</th>\n",
              "      <td>1930</td>\n",
              "      <td>Playing Around</td>\n",
              "      <td>Mervyn LeRoy</td>\n",
              "      <td>https://en.wikipedia.org/wiki/Playing_Around</td>\n",
              "      <td>Alice White plays the part of a working class ...</td>\n",
              "      <td>Playing Around Alice White plays the part of a...</td>\n",
              "      <td>995</td>\n",
              "    </tr>\n",
              "  </tbody>\n",
              "</table>\n",
              "</div>"
            ],
            "text/plain": [
              "     Release Year  ... Index\n",
              "5            1903  ...     5\n",
              "150          1916  ...   150\n",
              "170          1917  ...   170\n",
              "225          1918  ...   225\n",
              "495          1924  ...   495\n",
              "526          1925  ...   526\n",
              "895          1930  ...   895\n",
              "917          1930  ...   917\n",
              "935          1930  ...   935\n",
              "995          1930  ...   995\n",
              "\n",
              "[10 rows x 7 columns]"
            ]
          },
          "metadata": {},
          "execution_count": 21
        }
      ]
    },
    {
      "cell_type": "markdown",
      "metadata": {
        "id": "ZOSbLaiH9HDG"
      },
      "source": [
        "# **Product Quantization**"
      ]
    },
    {
      "cell_type": "code",
      "metadata": {
        "id": "FjMPEERIBQBE"
      },
      "source": [
        "model = SentenceTransformer('paraphrase-distilroberta-base-v1')"
      ],
      "execution_count": 28,
      "outputs": []
    },
    {
      "cell_type": "code",
      "metadata": {
        "id": "r8WA9cUQ9FpT"
      },
      "source": [
        "%%time\n",
        "embeddings = model.encode(df['text'].tolist())\n",
        "faiss.normalize_L2(embeddings)"
      ],
      "execution_count": null,
      "outputs": []
    },
    {
      "cell_type": "code",
      "metadata": {
        "colab": {
          "base_uri": "https://localhost:8080/"
        },
        "id": "43BdZll0Bimn",
        "outputId": "7ff76557-ec6e-4c86-da3b-90d93bf4648e"
      },
      "source": [
        "print(\"Shape of the Embeddings is \",embeddings.shape)"
      ],
      "execution_count": 30,
      "outputs": [
        {
          "output_type": "stream",
          "name": "stdout",
          "text": [
            "Shape of the Embeddings is  (1000, 768)\n"
          ]
        }
      ]
    },
    {
      "cell_type": "code",
      "metadata": {
        "colab": {
          "base_uri": "https://localhost:8080/"
        },
        "id": "Kek6TC1NCOxL",
        "outputId": "d42093fe-f631-4850-8216-67d799284242"
      },
      "source": [
        "dim=768\n",
        "ncentroids=50\n",
        "quantiser = faiss.IndexFlatL2(dim)\n",
        "index = faiss.IndexIVFPQ (quantiser, dim,ncentroids, 16 , 8)\n",
        "index.train(embeddings) \n",
        "print(index.is_trained)\n",
        "faiss.write_index(index, \"trained.index\")"
      ],
      "execution_count": 32,
      "outputs": [
        {
          "output_type": "stream",
          "name": "stdout",
          "text": [
            "True\n"
          ]
        }
      ]
    },
    {
      "cell_type": "code",
      "metadata": {
        "colab": {
          "base_uri": "https://localhost:8080/"
        },
        "id": "VMqAvnqaCf5n",
        "outputId": "8e92f4f5-e602-4097-b8a9-b39f58267d29"
      },
      "source": [
        "ids = df['Index'].tolist()\n",
        "ids = np.array(ids)\n",
        "index.add_with_ids(embeddings,ids)\n",
        "print(index.ntotal)"
      ],
      "execution_count": 33,
      "outputs": [
        {
          "output_type": "stream",
          "name": "stdout",
          "text": [
            "1000\n"
          ]
        }
      ]
    },
    {
      "cell_type": "code",
      "metadata": {
        "id": "gGouhQMfCllV"
      },
      "source": [
        "faiss.write_index(index,\"block.index\")"
      ],
      "execution_count": 34,
      "outputs": []
    },
    {
      "cell_type": "code",
      "metadata": {
        "id": "lB9Wq1CXCqv0"
      },
      "source": [
        "def searchFAISSIndex(data, id_col_name, query, index, nprobe, model, topk=20):\n",
        "    query_embedding=model.encode([query])[0]\n",
        "    dim=query_embedding.shape[0]\n",
        "    query_embedding=query_embedding.reshape(1,dim)\n",
        "    faiss.normalize_L2(query_embedding)\n",
        "  \n",
        "    index.nprobe=nprobe\n",
        "    \n",
        "    D,I=index.search(query_embedding,topk) \n",
        "    ids=[i for i in I][0]\n",
        "    L2_score=[d for d in D][0]\n",
        "    inner_product=[calculateInnerProduct(l2) for l2 in L2_score]\n",
        "    search_result=pd.DataFrame()\n",
        "    search_result[id_col_name]=ids\n",
        "    search_result['cosine_sim']=inner_product\n",
        "    search_result['L2_score']=L2_score\n",
        "    dat=data[data[id_col_name].isin(ids)]\n",
        "    dat=pd.merge(dat,search_result,on=id_col_name)\n",
        "    dat=dat.sort_values('cosine_sim',ascending=False)\n",
        "    return dat"
      ],
      "execution_count": 35,
      "outputs": []
    },
    {
      "cell_type": "code",
      "metadata": {
        "id": "qmZcI4xCCuJS"
      },
      "source": [
        "def calculateInnerProduct(L2_score):\n",
        "    return (2-math.pow(L2_score,2))/2"
      ],
      "execution_count": 36,
      "outputs": []
    },
    {
      "cell_type": "code",
      "metadata": {
        "id": "w8MbrOTDCv0d"
      },
      "source": [
        "query = \"A seventeen-year-old aristocrat falls in love with a kind but poor artist\"\n",
        "search_result = searchFAISSIndex(df, \"Index\", query, index, nprobe=10, model= model, topk=20)\n",
        "search_result = search_result[['Index', 'Title', 'Plot', 'cosine_sim', 'L2_score']]"
      ],
      "execution_count": 40,
      "outputs": []
    },
    {
      "cell_type": "code",
      "metadata": {
        "colab": {
          "base_uri": "https://localhost:8080/",
          "height": 676
        },
        "id": "oP1o65E_DHrr",
        "outputId": "6462faa7-3dd8-465b-f6f6-4445c6f38aaf"
      },
      "source": [
        "search_result"
      ],
      "execution_count": 41,
      "outputs": [
        {
          "output_type": "execute_result",
          "data": {
            "text/html": [
              "<div>\n",
              "<style scoped>\n",
              "    .dataframe tbody tr th:only-of-type {\n",
              "        vertical-align: middle;\n",
              "    }\n",
              "\n",
              "    .dataframe tbody tr th {\n",
              "        vertical-align: top;\n",
              "    }\n",
              "\n",
              "    .dataframe thead th {\n",
              "        text-align: right;\n",
              "    }\n",
              "</style>\n",
              "<table border=\"1\" class=\"dataframe\">\n",
              "  <thead>\n",
              "    <tr style=\"text-align: right;\">\n",
              "      <th></th>\n",
              "      <th>Index</th>\n",
              "      <th>Title</th>\n",
              "      <th>Plot</th>\n",
              "      <th>cosine_sim</th>\n",
              "      <th>L2_score</th>\n",
              "    </tr>\n",
              "  </thead>\n",
              "  <tbody>\n",
              "    <tr>\n",
              "      <th>14</th>\n",
              "      <td>686</td>\n",
              "      <td>Dream of Love</td>\n",
              "      <td>Adrienne, a Gypsy girl performing in a traveli...</td>\n",
              "      <td>0.627798</td>\n",
              "      <td>0.862788</td>\n",
              "    </tr>\n",
              "    <tr>\n",
              "      <th>15</th>\n",
              "      <td>691</td>\n",
              "      <td>Forbidden Hours</td>\n",
              "      <td>Set in the fictitious European kingdom of Bala...</td>\n",
              "      <td>0.561787</td>\n",
              "      <td>0.936176</td>\n",
              "    </tr>\n",
              "    <tr>\n",
              "      <th>5</th>\n",
              "      <td>467</td>\n",
              "      <td>Merry-Go-Round</td>\n",
              "      <td>A nobleman, posing as a necktie salesman, fall...</td>\n",
              "      <td>0.558208</td>\n",
              "      <td>0.939991</td>\n",
              "    </tr>\n",
              "    <tr>\n",
              "      <th>2</th>\n",
              "      <td>384</td>\n",
              "      <td>Heedless Moths</td>\n",
              "      <td>As described in a film publication,[3] idealis...</td>\n",
              "      <td>0.516007</td>\n",
              "      <td>0.983863</td>\n",
              "    </tr>\n",
              "    <tr>\n",
              "      <th>7</th>\n",
              "      <td>526</td>\n",
              "      <td>Confessions of a Queen</td>\n",
              "      <td>The King of Illyris (Lewis Stone) marries a ne...</td>\n",
              "      <td>0.515937</td>\n",
              "      <td>0.983934</td>\n",
              "    </tr>\n",
              "    <tr>\n",
              "      <th>3</th>\n",
              "      <td>460</td>\n",
              "      <td>Black Oxen</td>\n",
              "      <td>Lee Clavering (Tearle), a playwright in New Yo...</td>\n",
              "      <td>0.503277</td>\n",
              "      <td>0.996717</td>\n",
              "    </tr>\n",
              "    <tr>\n",
              "      <th>13</th>\n",
              "      <td>682</td>\n",
              "      <td>The Divine Woman</td>\n",
              "      <td>Marianne (Greta Garbo) is a poor French countr...</td>\n",
              "      <td>0.493323</td>\n",
              "      <td>1.006655</td>\n",
              "    </tr>\n",
              "    <tr>\n",
              "      <th>4</th>\n",
              "      <td>465</td>\n",
              "      <td>Gentle Julia</td>\n",
              "      <td>Julia (Bessie Love) is a \"small-town heartbrea...</td>\n",
              "      <td>0.487215</td>\n",
              "      <td>1.012704</td>\n",
              "    </tr>\n",
              "    <tr>\n",
              "      <th>17</th>\n",
              "      <td>821</td>\n",
              "      <td>Married in Hollywood</td>\n",
              "      <td>A showgirl, part of a troupe, tours Europe whe...</td>\n",
              "      <td>0.485977</td>\n",
              "      <td>1.013926</td>\n",
              "    </tr>\n",
              "    <tr>\n",
              "      <th>8</th>\n",
              "      <td>537</td>\n",
              "      <td>The King on Main Street</td>\n",
              "      <td>King Serge IV of Molvania (Menjou) comes to a ...</td>\n",
              "      <td>0.478432</td>\n",
              "      <td>1.021340</td>\n",
              "    </tr>\n",
              "    <tr>\n",
              "      <th>6</th>\n",
              "      <td>505</td>\n",
              "      <td>Monsieur Beaucaire</td>\n",
              "      <td>The Duke of Chartres is in love with Princess ...</td>\n",
              "      <td>0.472929</td>\n",
              "      <td>1.026714</td>\n",
              "    </tr>\n",
              "    <tr>\n",
              "      <th>11</th>\n",
              "      <td>605</td>\n",
              "      <td>The Magician</td>\n",
              "      <td>In the Latin Quarter of Paris, sculptor Margar...</td>\n",
              "      <td>0.470221</td>\n",
              "      <td>1.029349</td>\n",
              "    </tr>\n",
              "    <tr>\n",
              "      <th>19</th>\n",
              "      <td>955</td>\n",
              "      <td>Lawful Larceny</td>\n",
              "      <td>When Marion Corsey's husband, Andrew, is conne...</td>\n",
              "      <td>0.469836</td>\n",
              "      <td>1.029722</td>\n",
              "    </tr>\n",
              "    <tr>\n",
              "      <th>12</th>\n",
              "      <td>646</td>\n",
              "      <td>A Little Journey</td>\n",
              "      <td>A girl travelling by train to meet her boyfrie...</td>\n",
              "      <td>0.467394</td>\n",
              "      <td>1.032091</td>\n",
              "    </tr>\n",
              "    <tr>\n",
              "      <th>0</th>\n",
              "      <td>107</td>\n",
              "      <td>Anna Karenina</td>\n",
              "      <td>Anna Karenina is a married aristocrat and soci...</td>\n",
              "      <td>0.466299</td>\n",
              "      <td>1.033151</td>\n",
              "    </tr>\n",
              "    <tr>\n",
              "      <th>1</th>\n",
              "      <td>281</td>\n",
              "      <td>Male and Female</td>\n",
              "      <td>The film centers on the relationship between L...</td>\n",
              "      <td>0.462124</td>\n",
              "      <td>1.037185</td>\n",
              "    </tr>\n",
              "    <tr>\n",
              "      <th>18</th>\n",
              "      <td>871</td>\n",
              "      <td>Wedding Rings</td>\n",
              "      <td>Eve Quinn, a shallow but attractive debutante,...</td>\n",
              "      <td>0.458984</td>\n",
              "      <td>1.040208</td>\n",
              "    </tr>\n",
              "    <tr>\n",
              "      <th>16</th>\n",
              "      <td>820</td>\n",
              "      <td>The Man I Love</td>\n",
              "      <td>A prizefighter (Arlen) is struggling to be a c...</td>\n",
              "      <td>0.456489</td>\n",
              "      <td>1.042604</td>\n",
              "    </tr>\n",
              "    <tr>\n",
              "      <th>9</th>\n",
              "      <td>538</td>\n",
              "      <td>A Kiss for Cinderella</td>\n",
              "      <td>In London during World War One, a simple-minde...</td>\n",
              "      <td>0.455029</td>\n",
              "      <td>1.044003</td>\n",
              "    </tr>\n",
              "    <tr>\n",
              "      <th>10</th>\n",
              "      <td>603</td>\n",
              "      <td>A Kiss for Cinderella</td>\n",
              "      <td>In London during World War One, a simple-minde...</td>\n",
              "      <td>0.455029</td>\n",
              "      <td>1.044003</td>\n",
              "    </tr>\n",
              "  </tbody>\n",
              "</table>\n",
              "</div>"
            ],
            "text/plain": [
              "    Index                    Title  ... cosine_sim  L2_score\n",
              "14    686            Dream of Love  ...   0.627798  0.862788\n",
              "15    691          Forbidden Hours  ...   0.561787  0.936176\n",
              "5     467           Merry-Go-Round  ...   0.558208  0.939991\n",
              "2     384           Heedless Moths  ...   0.516007  0.983863\n",
              "7     526   Confessions of a Queen  ...   0.515937  0.983934\n",
              "3     460               Black Oxen  ...   0.503277  0.996717\n",
              "13    682         The Divine Woman  ...   0.493323  1.006655\n",
              "4     465             Gentle Julia  ...   0.487215  1.012704\n",
              "17    821     Married in Hollywood  ...   0.485977  1.013926\n",
              "8     537  The King on Main Street  ...   0.478432  1.021340\n",
              "6     505       Monsieur Beaucaire  ...   0.472929  1.026714\n",
              "11    605             The Magician  ...   0.470221  1.029349\n",
              "19    955           Lawful Larceny  ...   0.469836  1.029722\n",
              "12    646         A Little Journey  ...   0.467394  1.032091\n",
              "0     107            Anna Karenina  ...   0.466299  1.033151\n",
              "1     281          Male and Female  ...   0.462124  1.037185\n",
              "18    871            Wedding Rings  ...   0.458984  1.040208\n",
              "16    820           The Man I Love  ...   0.456489  1.042604\n",
              "9     538    A Kiss for Cinderella  ...   0.455029  1.044003\n",
              "10    603    A Kiss for Cinderella  ...   0.455029  1.044003\n",
              "\n",
              "[20 rows x 5 columns]"
            ]
          },
          "metadata": {},
          "execution_count": 41
        }
      ]
    },
    {
      "cell_type": "markdown",
      "metadata": {
        "id": "CrbXtQqODMFy"
      },
      "source": [
        "# **Trees and Graphs**"
      ]
    },
    {
      "cell_type": "markdown",
      "metadata": {
        "id": "hYgrY41v3Ola"
      },
      "source": [
        "# **References**"
      ]
    },
    {
      "cell_type": "markdown",
      "metadata": {
        "id": "b3nDQL5j3QWw"
      },
      "source": [
        "\n",
        "\n",
        "1.   https://www.learndatasci.com/tutorials/building-recommendation-engine-locality-sensitive-hashing-lsh-python/\n",
        "2. https://towardsdatascience.com/comprehensive-guide-to-approximate-nearest-neighbors-algorithms-8b94f057d6b6\n",
        "\n"
      ]
    }
  ]
}