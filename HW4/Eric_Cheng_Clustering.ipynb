{
  "nbformat": 4,
  "nbformat_minor": 0,
  "metadata": {
    "colab": {
      "name": "Eric_Cheng_Clustering.ipynb",
      "provenance": [],
      "collapsed_sections": []
    },
    "kernelspec": {
      "name": "python3",
      "display_name": "Python 3"
    },
    "language_info": {
      "name": "python"
    }
  },
  "cells": [
    {
      "cell_type": "markdown",
      "metadata": {
        "id": "N3EC0UEA7wmF"
      },
      "source": [
        "# **Use various clustering techniques in colab**\n",
        "\n",
        "Implement various clustering algorithms in colabs\n",
        "\n",
        "submit one colab per assignment - provide complete colab with proper documentation etc.,. \n",
        "\n",
        "1.   KMeans Clustering\n",
        "2.   Hierarchal Clustering\n",
        "3.   Gaussian Mixture Model\n",
        "4.   DBScan Clustering\n"
      ]
    },
    {
      "cell_type": "code",
      "metadata": {
        "colab": {
          "base_uri": "https://localhost:8080/"
        },
        "id": "FQV9uiMHcbnl",
        "outputId": "d144c5ee-b487-40a3-ce74-f5f0a3a6d1a8"
      },
      "source": [
        "from google.colab import drive\n",
        "drive.mount(\"/content/gdrive\")"
      ],
      "execution_count": null,
      "outputs": [
        {
          "output_type": "stream",
          "name": "stdout",
          "text": [
            "Mounted at /content/gdrive\n"
          ]
        }
      ]
    },
    {
      "cell_type": "code",
      "metadata": {
        "id": "voW4wlwgDCMb"
      },
      "source": [
        "# Importing packages\n",
        "import numpy as np\n",
        "from numpy import matlib as mb\n",
        "import pandas as pd\n",
        "import matplotlib as mpl\n",
        "import matplotlib.pyplot as plt\n",
        "import seaborn as sn\n",
        "import warnings # Current version of Seaborn generates a bunch of warnings that will be ignored.\n",
        "from scipy.spatial.distance import cdist \n",
        "warnings.filterwarnings('ignore')\n",
        "warnings.simplefilter('ignore')"
      ],
      "execution_count": null,
      "outputs": []
    },
    {
      "cell_type": "markdown",
      "metadata": {
        "id": "0JovZd5s7jcv"
      },
      "source": [
        "For the clustering algorithms, I will be using the Video Game Sales database which will give the sales of video games over a period of a few decades and their publisher. The dataset on Kaggle can be found here: https://www.kaggle.com/gregorut/videogamesales"
      ]
    },
    {
      "cell_type": "code",
      "metadata": {
        "colab": {
          "base_uri": "https://localhost:8080/",
          "height": 363
        },
        "id": "66sr6rqLc41o",
        "outputId": "096195cc-171c-4c1e-beb0-09cb64e4a814"
      },
      "source": [
        "df = pd.read_csv('/content/gdrive/My Drive/Colab Notebooks/Dataset/vgsales.csv')\n",
        "df.head(10)"
      ],
      "execution_count": null,
      "outputs": [
        {
          "output_type": "execute_result",
          "data": {
            "text/html": [
              "<div>\n",
              "<style scoped>\n",
              "    .dataframe tbody tr th:only-of-type {\n",
              "        vertical-align: middle;\n",
              "    }\n",
              "\n",
              "    .dataframe tbody tr th {\n",
              "        vertical-align: top;\n",
              "    }\n",
              "\n",
              "    .dataframe thead th {\n",
              "        text-align: right;\n",
              "    }\n",
              "</style>\n",
              "<table border=\"1\" class=\"dataframe\">\n",
              "  <thead>\n",
              "    <tr style=\"text-align: right;\">\n",
              "      <th></th>\n",
              "      <th>Rank</th>\n",
              "      <th>Name</th>\n",
              "      <th>Platform</th>\n",
              "      <th>Year</th>\n",
              "      <th>Genre</th>\n",
              "      <th>Publisher</th>\n",
              "      <th>NA_Sales</th>\n",
              "      <th>EU_Sales</th>\n",
              "      <th>JP_Sales</th>\n",
              "      <th>Other_Sales</th>\n",
              "      <th>Global_Sales</th>\n",
              "    </tr>\n",
              "  </thead>\n",
              "  <tbody>\n",
              "    <tr>\n",
              "      <th>0</th>\n",
              "      <td>1</td>\n",
              "      <td>Wii Sports</td>\n",
              "      <td>Wii</td>\n",
              "      <td>2006.0</td>\n",
              "      <td>Sports</td>\n",
              "      <td>Nintendo</td>\n",
              "      <td>41.49</td>\n",
              "      <td>29.02</td>\n",
              "      <td>3.77</td>\n",
              "      <td>8.46</td>\n",
              "      <td>82.74</td>\n",
              "    </tr>\n",
              "    <tr>\n",
              "      <th>1</th>\n",
              "      <td>2</td>\n",
              "      <td>Super Mario Bros.</td>\n",
              "      <td>NES</td>\n",
              "      <td>1985.0</td>\n",
              "      <td>Platform</td>\n",
              "      <td>Nintendo</td>\n",
              "      <td>29.08</td>\n",
              "      <td>3.58</td>\n",
              "      <td>6.81</td>\n",
              "      <td>0.77</td>\n",
              "      <td>40.24</td>\n",
              "    </tr>\n",
              "    <tr>\n",
              "      <th>2</th>\n",
              "      <td>3</td>\n",
              "      <td>Mario Kart Wii</td>\n",
              "      <td>Wii</td>\n",
              "      <td>2008.0</td>\n",
              "      <td>Racing</td>\n",
              "      <td>Nintendo</td>\n",
              "      <td>15.85</td>\n",
              "      <td>12.88</td>\n",
              "      <td>3.79</td>\n",
              "      <td>3.31</td>\n",
              "      <td>35.82</td>\n",
              "    </tr>\n",
              "    <tr>\n",
              "      <th>3</th>\n",
              "      <td>4</td>\n",
              "      <td>Wii Sports Resort</td>\n",
              "      <td>Wii</td>\n",
              "      <td>2009.0</td>\n",
              "      <td>Sports</td>\n",
              "      <td>Nintendo</td>\n",
              "      <td>15.75</td>\n",
              "      <td>11.01</td>\n",
              "      <td>3.28</td>\n",
              "      <td>2.96</td>\n",
              "      <td>33.00</td>\n",
              "    </tr>\n",
              "    <tr>\n",
              "      <th>4</th>\n",
              "      <td>5</td>\n",
              "      <td>Pokemon Red/Pokemon Blue</td>\n",
              "      <td>GB</td>\n",
              "      <td>1996.0</td>\n",
              "      <td>Role-Playing</td>\n",
              "      <td>Nintendo</td>\n",
              "      <td>11.27</td>\n",
              "      <td>8.89</td>\n",
              "      <td>10.22</td>\n",
              "      <td>1.00</td>\n",
              "      <td>31.37</td>\n",
              "    </tr>\n",
              "    <tr>\n",
              "      <th>5</th>\n",
              "      <td>6</td>\n",
              "      <td>Tetris</td>\n",
              "      <td>GB</td>\n",
              "      <td>1989.0</td>\n",
              "      <td>Puzzle</td>\n",
              "      <td>Nintendo</td>\n",
              "      <td>23.20</td>\n",
              "      <td>2.26</td>\n",
              "      <td>4.22</td>\n",
              "      <td>0.58</td>\n",
              "      <td>30.26</td>\n",
              "    </tr>\n",
              "    <tr>\n",
              "      <th>6</th>\n",
              "      <td>7</td>\n",
              "      <td>New Super Mario Bros.</td>\n",
              "      <td>DS</td>\n",
              "      <td>2006.0</td>\n",
              "      <td>Platform</td>\n",
              "      <td>Nintendo</td>\n",
              "      <td>11.38</td>\n",
              "      <td>9.23</td>\n",
              "      <td>6.50</td>\n",
              "      <td>2.90</td>\n",
              "      <td>30.01</td>\n",
              "    </tr>\n",
              "    <tr>\n",
              "      <th>7</th>\n",
              "      <td>8</td>\n",
              "      <td>Wii Play</td>\n",
              "      <td>Wii</td>\n",
              "      <td>2006.0</td>\n",
              "      <td>Misc</td>\n",
              "      <td>Nintendo</td>\n",
              "      <td>14.03</td>\n",
              "      <td>9.20</td>\n",
              "      <td>2.93</td>\n",
              "      <td>2.85</td>\n",
              "      <td>29.02</td>\n",
              "    </tr>\n",
              "    <tr>\n",
              "      <th>8</th>\n",
              "      <td>9</td>\n",
              "      <td>New Super Mario Bros. Wii</td>\n",
              "      <td>Wii</td>\n",
              "      <td>2009.0</td>\n",
              "      <td>Platform</td>\n",
              "      <td>Nintendo</td>\n",
              "      <td>14.59</td>\n",
              "      <td>7.06</td>\n",
              "      <td>4.70</td>\n",
              "      <td>2.26</td>\n",
              "      <td>28.62</td>\n",
              "    </tr>\n",
              "    <tr>\n",
              "      <th>9</th>\n",
              "      <td>10</td>\n",
              "      <td>Duck Hunt</td>\n",
              "      <td>NES</td>\n",
              "      <td>1984.0</td>\n",
              "      <td>Shooter</td>\n",
              "      <td>Nintendo</td>\n",
              "      <td>26.93</td>\n",
              "      <td>0.63</td>\n",
              "      <td>0.28</td>\n",
              "      <td>0.47</td>\n",
              "      <td>28.31</td>\n",
              "    </tr>\n",
              "  </tbody>\n",
              "</table>\n",
              "</div>"
            ],
            "text/plain": [
              "   Rank                       Name  ... Other_Sales  Global_Sales\n",
              "0     1                 Wii Sports  ...        8.46         82.74\n",
              "1     2          Super Mario Bros.  ...        0.77         40.24\n",
              "2     3             Mario Kart Wii  ...        3.31         35.82\n",
              "3     4          Wii Sports Resort  ...        2.96         33.00\n",
              "4     5   Pokemon Red/Pokemon Blue  ...        1.00         31.37\n",
              "5     6                     Tetris  ...        0.58         30.26\n",
              "6     7      New Super Mario Bros.  ...        2.90         30.01\n",
              "7     8                   Wii Play  ...        2.85         29.02\n",
              "8     9  New Super Mario Bros. Wii  ...        2.26         28.62\n",
              "9    10                  Duck Hunt  ...        0.47         28.31\n",
              "\n",
              "[10 rows x 11 columns]"
            ]
          },
          "metadata": {},
          "execution_count": 4
        }
      ]
    },
    {
      "cell_type": "code",
      "metadata": {
        "colab": {
          "base_uri": "https://localhost:8080/"
        },
        "id": "6NsosQnYdWfH",
        "outputId": "3b8709d6-fded-4be7-cf81-743d0040caf8"
      },
      "source": [
        "df.info()"
      ],
      "execution_count": null,
      "outputs": [
        {
          "output_type": "stream",
          "name": "stdout",
          "text": [
            "<class 'pandas.core.frame.DataFrame'>\n",
            "RangeIndex: 16598 entries, 0 to 16597\n",
            "Data columns (total 11 columns):\n",
            " #   Column        Non-Null Count  Dtype  \n",
            "---  ------        --------------  -----  \n",
            " 0   Rank          16598 non-null  int64  \n",
            " 1   Name          16598 non-null  object \n",
            " 2   Platform      16598 non-null  object \n",
            " 3   Year          16327 non-null  float64\n",
            " 4   Genre         16598 non-null  object \n",
            " 5   Publisher     16540 non-null  object \n",
            " 6   NA_Sales      16598 non-null  float64\n",
            " 7   EU_Sales      16598 non-null  float64\n",
            " 8   JP_Sales      16598 non-null  float64\n",
            " 9   Other_Sales   16598 non-null  float64\n",
            " 10  Global_Sales  16598 non-null  float64\n",
            "dtypes: float64(6), int64(1), object(4)\n",
            "memory usage: 1.4+ MB\n"
          ]
        }
      ]
    },
    {
      "cell_type": "markdown",
      "metadata": {
        "id": "vVFefuQ18gGj"
      },
      "source": [
        "Check if there are any null values and if there are just drop those rows. These null rows can be removed because they represent a few minor video games that did not list the year or publisher and dropping them should not have major impacts on my result."
      ]
    },
    {
      "cell_type": "code",
      "metadata": {
        "colab": {
          "base_uri": "https://localhost:8080/"
        },
        "id": "yJ9TLXtAdSnl",
        "outputId": "222f7773-f773-4450-b004-eb102cbf71d8"
      },
      "source": [
        "df.isnull().sum()"
      ],
      "execution_count": null,
      "outputs": [
        {
          "output_type": "execute_result",
          "data": {
            "text/plain": [
              "Rank              0\n",
              "Name              0\n",
              "Platform          0\n",
              "Year            271\n",
              "Genre             0\n",
              "Publisher        58\n",
              "NA_Sales          0\n",
              "EU_Sales          0\n",
              "JP_Sales          0\n",
              "Other_Sales       0\n",
              "Global_Sales      0\n",
              "dtype: int64"
            ]
          },
          "metadata": {},
          "execution_count": 5
        }
      ]
    },
    {
      "cell_type": "code",
      "metadata": {
        "colab": {
          "base_uri": "https://localhost:8080/"
        },
        "id": "E5lSdq8bfr50",
        "outputId": "a8e75561-5ad2-456b-b2cf-81e8fc29a9aa"
      },
      "source": [
        "df.dropna(axis= 0, inplace= True)\n",
        "df.isnull().sum()"
      ],
      "execution_count": null,
      "outputs": [
        {
          "output_type": "execute_result",
          "data": {
            "text/plain": [
              "Rank            0\n",
              "Name            0\n",
              "Platform        0\n",
              "Year            0\n",
              "Genre           0\n",
              "Publisher       0\n",
              "NA_Sales        0\n",
              "EU_Sales        0\n",
              "JP_Sales        0\n",
              "Other_Sales     0\n",
              "Global_Sales    0\n",
              "dtype: int64"
            ]
          },
          "metadata": {},
          "execution_count": 9
        }
      ]
    },
    {
      "cell_type": "markdown",
      "metadata": {
        "id": "WR6sbzFnfSz1"
      },
      "source": [
        "# **K-Means Clustering (from Scratch)**"
      ]
    },
    {
      "cell_type": "markdown",
      "metadata": {
        "id": "Oqo66ViZ8txY"
      },
      "source": [
        "First I can visualize a comparison between NA Sales and JP Sales for games, and it shows that most of them are clustered towards the bottom left, meaning low to average sales for both NA and JP."
      ]
    },
    {
      "cell_type": "code",
      "metadata": {
        "colab": {
          "base_uri": "https://localhost:8080/",
          "height": 459
        },
        "id": "Cxl2xFTZgwbJ",
        "outputId": "356274a4-7bc5-4fd3-87fb-3d652313c232"
      },
      "source": [
        "plt.subplots(figsize=(12,7))\n",
        "plt.scatter(df.NA_Sales, df.JP_Sales)\n",
        "plt.xlabel('NA Sales ($)')\n",
        "plt.ylabel('JP Sales ($)')"
      ],
      "execution_count": null,
      "outputs": [
        {
          "output_type": "execute_result",
          "data": {
            "text/plain": [
              "Text(0, 0.5, 'Global Sales ($)')"
            ]
          },
          "metadata": {},
          "execution_count": 16
        },
        {
          "output_type": "display_data",
          "data": {
            "image/png": "[encoded data removed]",
            "text/plain": [
              "<Figure size 864x504 with 1 Axes>"
            ]
          },
          "metadata": {
            "needs_background": "light"
          }
        }
      ]
    },
    {
      "cell_type": "markdown",
      "metadata": {
        "id": "TMb7dhqC83GJ"
      },
      "source": [
        "For KMeans from scratch I need a few functions: \n",
        "\n",
        "*   Randomly assign centroids to start things up.\n",
        "*   Based on those centroids (and an observation’s distance from it), assign each observation to a cluster.\n",
        "*   Calculate the mean coordinates of each cluster; these are our new centroids.\n",
        "*   Reassign clusters based on new centroids.\n",
        "*   Keep repeating steps 3 and 4 until convergence.\n"
      ]
    },
    {
      "cell_type": "code",
      "metadata": {
        "id": "AIRVF9RViUhr"
      },
      "source": [
        "def calc_distance(X1, X2):\n",
        "    return (sum((X1 - X2)**2))**0.5\n",
        "\n",
        "# Assign cluster clusters based on closest centroid\n",
        "def assign_clusters(centroids, cluster_array):\n",
        "    clusters = []\n",
        "    for i in range(cluster_array.shape[0]):\n",
        "        distances = []\n",
        "        for centroid in centroids:\n",
        "            distances.append(calc_distance(centroid, \n",
        "                                           cluster_array[i]))\n",
        "        cluster = [z for z, val in enumerate(distances) if val==min(distances)]\n",
        "        clusters.append(cluster[0])\n",
        "    return clusters\n",
        "\n",
        "# Calculate new centroids based on each cluster's mean\n",
        "def calc_centroids(clusters, cluster_array):\n",
        "    new_centroids = []\n",
        "    cluster_df = pd.concat([pd.DataFrame(cluster_array),\n",
        "                            pd.DataFrame(clusters, \n",
        "                                         columns=['cluster'])], \n",
        "                           axis=1)\n",
        "    for c in set(cluster_df['cluster']):\n",
        "        current_cluster = cluster_df[cluster_df['cluster']\\\n",
        "                                     ==c][cluster_df.columns[:-1]]\n",
        "        cluster_mean = current_cluster.mean(axis=0)\n",
        "        new_centroids.append(cluster_mean)\n",
        "    return new_centroids\n",
        "\n",
        "# Calculate variance within each cluster\n",
        "def calc_centroid_variance(clusters, cluster_array):\n",
        "    sum_squares = []\n",
        "    cluster_df = pd.concat([pd.DataFrame(cluster_array),\n",
        "                            pd.DataFrame(clusters, \n",
        "                                         columns=['cluster'])], \n",
        "                           axis=1)\n",
        "    for c in set(cluster_df['cluster']):\n",
        "        current_cluster = cluster_df[cluster_df['cluster']\\\n",
        "                                     ==c][cluster_df.columns[:-1]]\n",
        "        cluster_mean = current_cluster.mean(axis=0)\n",
        "        mean_repmat = np.matlib.repmat(cluster_mean, \n",
        "                                       current_cluster.shape[0],1)\n",
        "        sum_squares.append(np.sum(np.sum((current_cluster - mean_repmat)**2)))\n",
        "    return sum_squares"
      ],
      "execution_count": null,
      "outputs": []
    },
    {
      "cell_type": "markdown",
      "metadata": {
        "id": "4Y4QC3lu9LaH"
      },
      "source": [
        "I can take the NA and JP Sales and run the clustering algorithms on them."
      ]
    },
    {
      "cell_type": "code",
      "metadata": {
        "id": "Rn0sS20rix4m"
      },
      "source": [
        "df_cluster = df[[\"NA_Sales\", \"JP_Sales\"]]\n",
        "df_array = np.array(df_cluster)"
      ],
      "execution_count": null,
      "outputs": []
    },
    {
      "cell_type": "code",
      "metadata": {
        "colab": {
          "base_uri": "https://localhost:8080/"
        },
        "id": "aKw9-qa4ifLJ",
        "outputId": "01a27c5b-7bc1-4a43-c0b3-28b587b66739"
      },
      "source": [
        "k = 4\n",
        "cluster_vars = []\n",
        "centroids = [df_array[i+2] for i in range(k)]\n",
        "clusters = assign_clusters(centroids, df_array)\n",
        "initial_clusters = clusters\n",
        "print(0, round(np.mean(calc_centroid_variance(clusters, df_array))))\n",
        "for i in range(20):\n",
        "    centroids = calc_centroids(clusters, df_array)\n",
        "    clusters = assign_clusters(centroids, df_array)\n",
        "    cluster_var = np.mean(calc_centroid_variance(clusters, df_array))\n",
        "    cluster_vars.append(cluster_var)\n",
        "    print(i+1, round(cluster_var))"
      ],
      "execution_count": null,
      "outputs": [
        {
          "output_type": "stream",
          "name": "stdout",
          "text": [
            "0 1457\n",
            "1 1048\n",
            "2 975\n",
            "3 925\n",
            "4 876\n",
            "5 843\n",
            "6 817\n",
            "7 792\n",
            "8 782\n",
            "9 776\n",
            "10 772\n",
            "11 770\n",
            "12 769\n",
            "13 768\n",
            "14 768\n",
            "15 768\n",
            "16 767\n",
            "17 767\n",
            "18 767\n",
            "19 767\n",
            "20 767\n"
          ]
        }
      ]
    },
    {
      "cell_type": "markdown",
      "metadata": {
        "id": "_HIIWKWS9WVv"
      },
      "source": [
        "For each iteration in my loop, I stored the average of the clusters’ sums of squared deviations from their centroids in the list cluster_vars. As the amount of iterations increase, the average variance drops, and I want to wait until they converge."
      ]
    },
    {
      "cell_type": "code",
      "metadata": {
        "colab": {
          "base_uri": "https://localhost:8080/",
          "height": 459
        },
        "id": "_avaOaXoktt0",
        "outputId": "f9b73c35-f823-4765-9cc5-3fce3efea1f0"
      },
      "source": [
        "plt.subplots(figsize=(12,7))\n",
        "plt.plot(cluster_vars)\n",
        "plt.xlabel('Iterations')\n",
        "plt.ylabel('Squared Deviations')"
      ],
      "execution_count": null,
      "outputs": [
        {
          "output_type": "execute_result",
          "data": {
            "text/plain": [
              "Text(0, 0.5, 'Squared Deviations')"
            ]
          },
          "metadata": {},
          "execution_count": 27
        },
        {
          "output_type": "display_data",
          "data": {
            "image/png": "[encoded data removed]",
            "text/plain": [
              "<Figure size 864x504 with 1 Axes>"
            ]
          },
          "metadata": {
            "needs_background": "light"
          }
        }
      ]
    },
    {
      "cell_type": "markdown",
      "metadata": {
        "id": "RTwgXqZJ9pPA"
      },
      "source": [
        "Here is the preclustering result, and as one can see, the clusters are pretty imbalanced."
      ]
    },
    {
      "cell_type": "code",
      "metadata": {
        "colab": {
          "base_uri": "https://localhost:8080/",
          "height": 459
        },
        "id": "J7mdD4g0k-4f",
        "outputId": "aa2c3e18-0815-4db2-c84e-38105fdba8b7"
      },
      "source": [
        "plt.subplots(figsize=(12,7))\n",
        "plt.scatter(x=df_array[:,0], y=df_array[:,1], c=initial_clusters, cmap=plt.cm.viridis)\n",
        "plt.xlabel('NA Sales ($)')\n",
        "plt.ylabel('JP Sales ($)')"
      ],
      "execution_count": null,
      "outputs": [
        {
          "output_type": "execute_result",
          "data": {
            "text/plain": [
              "Text(0, 0.5, 'JP Sales ($)')"
            ]
          },
          "metadata": {},
          "execution_count": 36
        },
        {
          "output_type": "display_data",
          "data": {
            "image/png": "[encoded data removed]",
            "text/plain": [
              "<Figure size 864x504 with 1 Axes>"
            ]
          },
          "metadata": {
            "needs_background": "light"
          }
        }
      ]
    },
    {
      "cell_type": "markdown",
      "metadata": {
        "id": "o3WnrJEy9hen"
      },
      "source": [
        "Here is the result of the KMeans Clustering, overall, the clustering was pretty good for the most part."
      ]
    },
    {
      "cell_type": "code",
      "metadata": {
        "colab": {
          "base_uri": "https://localhost:8080/",
          "height": 459
        },
        "id": "5TZ1GEzSln5A",
        "outputId": "0931300b-0976-4dcd-9ed5-2ccfd7b25fc9"
      },
      "source": [
        "plt.subplots(figsize=(12,7))\n",
        "plt.scatter(x= df_array[:,0], y= df_array[:,1], c= clusters, cmap= plt.cm.viridis)\n",
        "plt.xlabel('NA Sales ($)')\n",
        "plt.ylabel('JP Sales ($)')"
      ],
      "execution_count": null,
      "outputs": [
        {
          "output_type": "execute_result",
          "data": {
            "text/plain": [
              "Text(0, 0.5, 'JP Sales ($)')"
            ]
          },
          "metadata": {},
          "execution_count": 38
        },
        {
          "output_type": "display_data",
          "data": {
            "image/png": "[encoded data removed]",
            "text/plain": [
              "<Figure size 864x504 with 1 Axes>"
            ]
          },
          "metadata": {
            "needs_background": "light"
          }
        }
      ]
    },
    {
      "cell_type": "markdown",
      "metadata": {
        "id": "ENtgYL4Bl54C"
      },
      "source": [
        "# **Hierarchal Clustering**"
      ]
    },
    {
      "cell_type": "markdown",
      "metadata": {
        "id": "FyzZS_Dy96BU"
      },
      "source": [
        "I first normalize the data for the sales of the game."
      ]
    },
    {
      "cell_type": "code",
      "metadata": {
        "colab": {
          "base_uri": "https://localhost:8080/",
          "height": 363
        },
        "id": "v1mxXUfGl-lB",
        "outputId": "b651f233-39df-4ca1-fbe5-60f6328e93dd"
      },
      "source": [
        "from sklearn.preprocessing import normalize\n",
        "df_hi = df[[\"Rank\", \"NA_Sales\", \"EU_Sales\", \"JP_Sales\", \"Other_Sales\", \"Global_Sales\"]]\n",
        "data_scaled = normalize(df_hi)\n",
        "data_scaled = pd.DataFrame(data_scaled, columns=df_hi.columns)\n",
        "data_scaled.head(10)"
      ],
      "execution_count": null,
      "outputs": [
        {
          "output_type": "execute_result",
          "data": {
            "text/html": [
              "<div>\n",
              "<style scoped>\n",
              "    .dataframe tbody tr th:only-of-type {\n",
              "        vertical-align: middle;\n",
              "    }\n",
              "\n",
              "    .dataframe tbody tr th {\n",
              "        vertical-align: top;\n",
              "    }\n",
              "\n",
              "    .dataframe thead th {\n",
              "        text-align: right;\n",
              "    }\n",
              "</style>\n",
              "<table border=\"1\" class=\"dataframe\">\n",
              "  <thead>\n",
              "    <tr style=\"text-align: right;\">\n",
              "      <th></th>\n",
              "      <th>Rank</th>\n",
              "      <th>NA_Sales</th>\n",
              "      <th>EU_Sales</th>\n",
              "      <th>JP_Sales</th>\n",
              "      <th>Other_Sales</th>\n",
              "      <th>Global_Sales</th>\n",
              "    </tr>\n",
              "  </thead>\n",
              "  <tbody>\n",
              "    <tr>\n",
              "      <th>0</th>\n",
              "      <td>0.010262</td>\n",
              "      <td>0.425762</td>\n",
              "      <td>0.297797</td>\n",
              "      <td>0.038687</td>\n",
              "      <td>0.086815</td>\n",
              "      <td>0.849061</td>\n",
              "    </tr>\n",
              "    <tr>\n",
              "      <th>1</th>\n",
              "      <td>0.039772</td>\n",
              "      <td>0.578291</td>\n",
              "      <td>0.071193</td>\n",
              "      <td>0.135425</td>\n",
              "      <td>0.015312</td>\n",
              "      <td>0.800222</td>\n",
              "    </tr>\n",
              "    <tr>\n",
              "      <th>2</th>\n",
              "      <td>0.072033</td>\n",
              "      <td>0.380576</td>\n",
              "      <td>0.309263</td>\n",
              "      <td>0.091002</td>\n",
              "      <td>0.079477</td>\n",
              "      <td>0.860077</td>\n",
              "    </tr>\n",
              "    <tr>\n",
              "      <th>3</th>\n",
              "      <td>0.103494</td>\n",
              "      <td>0.407506</td>\n",
              "      <td>0.284866</td>\n",
              "      <td>0.084865</td>\n",
              "      <td>0.076585</td>\n",
              "      <td>0.853822</td>\n",
              "    </tr>\n",
              "    <tr>\n",
              "      <th>4</th>\n",
              "      <td>0.137591</td>\n",
              "      <td>0.310130</td>\n",
              "      <td>0.244636</td>\n",
              "      <td>0.281235</td>\n",
              "      <td>0.027518</td>\n",
              "      <td>0.863244</td>\n",
              "    </tr>\n",
              "    <tr>\n",
              "      <th>5</th>\n",
              "      <td>0.154244</td>\n",
              "      <td>0.596411</td>\n",
              "      <td>0.058099</td>\n",
              "      <td>0.108485</td>\n",
              "      <td>0.014910</td>\n",
              "      <td>0.777905</td>\n",
              "    </tr>\n",
              "    <tr>\n",
              "      <th>6</th>\n",
              "      <td>0.200825</td>\n",
              "      <td>0.326484</td>\n",
              "      <td>0.264802</td>\n",
              "      <td>0.186480</td>\n",
              "      <td>0.083199</td>\n",
              "      <td>0.860965</td>\n",
              "    </tr>\n",
              "    <tr>\n",
              "      <th>7</th>\n",
              "      <td>0.230523</td>\n",
              "      <td>0.404279</td>\n",
              "      <td>0.265101</td>\n",
              "      <td>0.084429</td>\n",
              "      <td>0.082124</td>\n",
              "      <td>0.836221</td>\n",
              "    </tr>\n",
              "    <tr>\n",
              "      <th>8</th>\n",
              "      <td>0.260895</td>\n",
              "      <td>0.422941</td>\n",
              "      <td>0.204658</td>\n",
              "      <td>0.136245</td>\n",
              "      <td>0.065514</td>\n",
              "      <td>0.829648</td>\n",
              "    </tr>\n",
              "    <tr>\n",
              "      <th>9</th>\n",
              "      <td>0.247888</td>\n",
              "      <td>0.667563</td>\n",
              "      <td>0.015617</td>\n",
              "      <td>0.006941</td>\n",
              "      <td>0.011651</td>\n",
              "      <td>0.701772</td>\n",
              "    </tr>\n",
              "  </tbody>\n",
              "</table>\n",
              "</div>"
            ],
            "text/plain": [
              "       Rank  NA_Sales  EU_Sales  JP_Sales  Other_Sales  Global_Sales\n",
              "0  0.010262  0.425762  0.297797  0.038687     0.086815      0.849061\n",
              "1  0.039772  0.578291  0.071193  0.135425     0.015312      0.800222\n",
              "2  0.072033  0.380576  0.309263  0.091002     0.079477      0.860077\n",
              "3  0.103494  0.407506  0.284866  0.084865     0.076585      0.853822\n",
              "4  0.137591  0.310130  0.244636  0.281235     0.027518      0.863244\n",
              "5  0.154244  0.596411  0.058099  0.108485     0.014910      0.777905\n",
              "6  0.200825  0.326484  0.264802  0.186480     0.083199      0.860965\n",
              "7  0.230523  0.404279  0.265101  0.084429     0.082124      0.836221\n",
              "8  0.260895  0.422941  0.204658  0.136245     0.065514      0.829648\n",
              "9  0.247888  0.667563  0.015617  0.006941     0.011651      0.701772"
            ]
          },
          "metadata": {},
          "execution_count": 55
        }
      ]
    },
    {
      "cell_type": "markdown",
      "metadata": {
        "id": "4DUfzYqo9-UD"
      },
      "source": [
        "Running the Hierarchal model, I can use the dendrogram to see the number of clusters. It only split into two clusters."
      ]
    },
    {
      "cell_type": "code",
      "metadata": {
        "colab": {
          "base_uri": "https://localhost:8080/",
          "height": 451
        },
        "id": "jZkStmwrpHU-",
        "outputId": "e4e5d709-49e5-459e-d26b-833104b955e8"
      },
      "source": [
        "import scipy.cluster.hierarchy as shc\n",
        "plt.figure(figsize=(12, 7))  \n",
        "plt.title(\"Dendrograms\")  \n",
        "dend = shc.dendrogram(shc.linkage(data_scaled, method='ward'))"
      ],
      "execution_count": null,
      "outputs": [
        {
          "output_type": "display_data",
          "data": {
            "image/png": "[encoded data removed]",
            "text/plain": [
              "<Figure size 864x504 with 1 Axes>"
            ]
          },
          "metadata": {
            "needs_background": "light"
          }
        }
      ]
    },
    {
      "cell_type": "code",
      "metadata": {
        "colab": {
          "base_uri": "https://localhost:8080/"
        },
        "id": "Y5408iHzqNKv",
        "outputId": "cdafd4cd-08b0-489d-9fe2-4afce615f38c"
      },
      "source": [
        "from sklearn.cluster import AgglomerativeClustering\n",
        "cluster = AgglomerativeClustering(n_clusters=2, affinity='euclidean', linkage='ward')  \n",
        "cluster.fit_predict(data_scaled)"
      ],
      "execution_count": null,
      "outputs": [
        {
          "output_type": "execute_result",
          "data": {
            "text/plain": [
              "array([1, 1, 1, ..., 0, 0, 0])"
            ]
          },
          "metadata": {},
          "execution_count": 46
        }
      ]
    },
    {
      "cell_type": "code",
      "metadata": {
        "colab": {
          "base_uri": "https://localhost:8080/",
          "height": 446
        },
        "id": "a_GJjI9CqXQ7",
        "outputId": "1aac4050-b58c-4b0c-f5c2-c8fbff2f1a28"
      },
      "source": [
        "plt.figure(figsize=(12, 7))  \n",
        "plt.scatter(data_scaled['NA_Sales'], data_scaled['JP_Sales'], c=cluster.labels_) "
      ],
      "execution_count": null,
      "outputs": [
        {
          "output_type": "execute_result",
          "data": {
            "text/plain": [
              "<matplotlib.collections.PathCollection at 0x7fad319b2dd0>"
            ]
          },
          "metadata": {},
          "execution_count": 77
        },
        {
          "output_type": "display_data",
          "data": {
            "image/png": "[encoded data removed]",
            "text/plain": [
              "<Figure size 864x504 with 1 Axes>"
            ]
          },
          "metadata": {
            "needs_background": "light"
          }
        }
      ]
    },
    {
      "cell_type": "markdown",
      "metadata": {
        "id": "Fu53Xdy7szO8"
      },
      "source": [
        "Hierarchal clustering did not turn out very well for the video game sales dataset."
      ]
    },
    {
      "cell_type": "markdown",
      "metadata": {
        "id": "SXJLDZcUsowd"
      },
      "source": [
        "# **Gaussian Mixture Model Clustering**"
      ]
    },
    {
      "cell_type": "markdown",
      "metadata": {
        "id": "4dL2q-m7-NOh"
      },
      "source": [
        "The GaussianMixture object implements the expectation-maximization (EM) algorithm for fitting mixture-of-Gaussian models. It can also draw confidence ellipsoids for multivariate models, and compute the Bayesian Information Criterion to assess the number of clusters in the data"
      ]
    },
    {
      "cell_type": "code",
      "metadata": {
        "colab": {
          "base_uri": "https://localhost:8080/"
        },
        "id": "hJZ6LbrMsw3f",
        "outputId": "c009a18b-6974-4f55-ce2a-e64e7ae0742b"
      },
      "source": [
        "from sklearn.mixture import GaussianMixture\n",
        "gmm = GaussianMixture(n_components=4)\n",
        "gmm.fit(data_scaled)"
      ],
      "execution_count": null,
      "outputs": [
        {
          "output_type": "execute_result",
          "data": {
            "text/plain": [
              "GaussianMixture(n_components=4)"
            ]
          },
          "metadata": {},
          "execution_count": 68
        }
      ]
    },
    {
      "cell_type": "code",
      "metadata": {
        "id": "uZLBAOPBDeqe"
      },
      "source": [
        "labels = gmm.predict(data_scaled)\n",
        "frame = pd.DataFrame(data_scaled)\n",
        "frame['cluster'] = labels\n",
        "frame.columns = [\"Rank\", \"NA_Sales\", \"EU_Sales\", \"JP_Sales\", \"Other_Sales\", \"Global_Sales\", \"cluster\"]"
      ],
      "execution_count": null,
      "outputs": []
    },
    {
      "cell_type": "code",
      "metadata": {
        "colab": {
          "base_uri": "https://localhost:8080/",
          "height": 428
        },
        "id": "q4BzLl5BEcrN",
        "outputId": "4fe5e987-c935-40e1-dca4-9ca943f6962c"
      },
      "source": [
        "plt.figure(figsize=(12, 7)) \n",
        "for k in range(0,4):\n",
        "    data = frame[frame[\"cluster\"]==k]\n",
        "    plt.scatter(data[\"NA_Sales\"],data[\"EU_Sales\"],cmap= plt.cm.viridis)\n",
        "plt.show()"
      ],
      "execution_count": null,
      "outputs": [
        {
          "output_type": "display_data",
          "data": {
            "image/png": "[encoded data removed]",
            "text/plain": [
              "<Figure size 864x504 with 1 Axes>"
            ]
          },
          "metadata": {
            "needs_background": "light"
          }
        }
      ]
    },
    {
      "cell_type": "markdown",
      "metadata": {
        "id": "R_GDG_JKNaz1"
      },
      "source": [
        "The Gaussian Mixture Model showed the clusters, although in the lower left dense area the clusters were not well defined."
      ]
    },
    {
      "cell_type": "markdown",
      "metadata": {
        "id": "8jzzgitrEvuA"
      },
      "source": [
        "# **DBScan Clustering**"
      ]
    },
    {
      "cell_type": "code",
      "metadata": {
        "colab": {
          "base_uri": "https://localhost:8080/"
        },
        "id": "gJ7hvAeVEvRJ",
        "outputId": "03b3c47a-a5e8-4bce-bfcb-4d3a882ad1fa"
      },
      "source": [
        "from sklearn.cluster import DBSCAN\n",
        "\n",
        "db_scan = data_scaled.values\n",
        "db = DBSCAN(eps=0.4, min_samples=20)\n",
        "db.fit(db_scan)"
      ],
      "execution_count": null,
      "outputs": [
        {
          "output_type": "execute_result",
          "data": {
            "text/plain": [
              "DBSCAN(eps=0.4, min_samples=20)"
            ]
          },
          "metadata": {},
          "execution_count": 84
        }
      ]
    },
    {
      "cell_type": "code",
      "metadata": {
        "colab": {
          "base_uri": "https://localhost:8080/",
          "height": 450
        },
        "id": "Hzuc5KS3Mf3C",
        "outputId": "01d884a3-e8ed-47e7-d3b4-067c82380156"
      },
      "source": [
        "pred = db.fit_predict(db_scan)\n",
        "plt.figure(figsize=(12, 7)) \n",
        "plt.scatter(db_scan[:,0], db_scan[:,1],c= pred, cmap= plt.cm.viridis)"
      ],
      "execution_count": null,
      "outputs": [
        {
          "output_type": "execute_result",
          "data": {
            "text/plain": [
              "<matplotlib.collections.PathCollection at 0x7fad2d47f6d0>"
            ]
          },
          "metadata": {},
          "execution_count": 85
        },
        {
          "output_type": "display_data",
          "data": {
            "image/png": "[encoded data removed]",
            "text/plain": [
              "<Figure size 864x504 with 1 Axes>"
            ]
          },
          "metadata": {
            "needs_background": "light"
          }
        }
      ]
    },
    {
      "cell_type": "markdown",
      "metadata": {
        "id": "m99WzA3ZNOwI"
      },
      "source": [
        "DBScan showed the clusters, although towards the end the clusters were not very clear."
      ]
    },
    {
      "cell_type": "markdown",
      "metadata": {
        "id": "JAO6Cfjdjg3o"
      },
      "source": [
        "# **References**\n",
        "\n",
        "\n",
        "\n",
        "1. https://towardsdatascience.com/k-means-clustering-from-scratch-6a9d19cafc25\n",
        "2. https://www.analyticsvidhya.com/blog/2019/05beginners-guide-hierarchical-clustering/\n"
      ]
    }
  ]
}